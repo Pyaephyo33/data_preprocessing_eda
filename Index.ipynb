{
 "cells": [
  {
   "cell_type": "markdown",
   "id": "1321c441-b590-471d-8fc9-907a048d9386",
   "metadata": {},
   "source": [
    "## Data Preprocessing"
   ]
  },
  {
   "cell_type": "code",
   "execution_count": 219,
   "id": "32dc947b-e3bf-4564-9659-168a212a0dbb",
   "metadata": {},
   "outputs": [],
   "source": [
    "### Load Libraries\n",
    "import pandas as pd\n",
    "import numpy as np\n",
    "from sklearn.preprocessing import MinMaxScaler, OneHotEncoder"
   ]
  },
  {
   "cell_type": "code",
   "execution_count": 220,
   "id": "bf0469a5-124e-48a2-ad40-068a9734cad2",
   "metadata": {},
   "outputs": [],
   "source": [
    "# load merged dataset\n",
    "file_path = \"merged_dataset.csv\" \n",
    "merged_df = pd.read_csv(file_path)"
   ]
  },
  {
   "cell_type": "code",
   "execution_count": 221,
   "id": "98cbccb0-0674-4004-8f97-dfd6733dd10f",
   "metadata": {},
   "outputs": [
    {
     "name": "stdout",
     "output_type": "stream",
     "text": [
      "Initial Dataset Overview:\n",
      "<class 'pandas.core.frame.DataFrame'>\n",
      "RangeIndex: 3958 entries, 0 to 3957\n",
      "Data columns (total 28 columns):\n",
      " #   Column                                         Non-Null Count  Dtype  \n",
      "---  ------                                         --------------  -----  \n",
      " 0   Organisation Name                              3958 non-null   object \n",
      " 1   Effective Date                                 3958 non-null   object \n",
      " 2   Property ID                                    3958 non-null   int64  \n",
      " 3   Property Type                                  3958 non-null   object \n",
      " 4   Property Name                                  3958 non-null   object \n",
      " 5   Property Name/Address (Where no UPRN)          3868 non-null   object \n",
      " 6   Street Number                                  482 non-null    float64\n",
      " 7   Street                                         1891 non-null   object \n",
      " 8   Town / Post Town                               1891 non-null   object \n",
      " 9   Postcode                                       1560 non-null   object \n",
      " 10  Ward                                           3958 non-null   object \n",
      " 11  Geo X (Easting)                                3868 non-null   float64\n",
      " 12  Geo Y (Northing)                               3868 non-null   float64\n",
      " 13  Tenure Type                                    3958 non-null   object \n",
      " 14  Lease Out                                      856 non-null    object \n",
      " 15  Vacant                                         153 non-null    object \n",
      " 16  Holding Type                                   3958 non-null   object \n",
      " 17  Building Size - GIA (M2)                       1112 non-null   float64\n",
      " 18  Site Area (Hectares)                           3941 non-null   float64\n",
      " 19  Occupied by Council / Direct Service Property  2162 non-null   object \n",
      " 20  Purpose / Asset Category                       3958 non-null   object \n",
      " 21  Post Code                                      2387 non-null   object \n",
      " 22  EPC Rating                                     1108 non-null   object \n",
      " 23  Council Tax                                    1108 non-null   float64\n",
      " 24  Key Features                                   321 non-null    object \n",
      " 25  Property Rent/Sale History                     3958 non-null   object \n",
      " 26  Base Price                                     1112 non-null   float64\n",
      " 27  New Price                                      0 non-null      float64\n",
      "dtypes: float64(8), int64(1), object(19)\n",
      "memory usage: 865.9+ KB\n",
      "None\n",
      "\n",
      "Missing Values per Column:\n",
      "Organisation Name                                   0\n",
      "Effective Date                                      0\n",
      "Property ID                                         0\n",
      "Property Type                                       0\n",
      "Property Name                                       0\n",
      "Property Name/Address (Where no UPRN)              90\n",
      "Street Number                                    3476\n",
      "Street                                           2067\n",
      "Town / Post Town                                 2067\n",
      "Postcode                                         2398\n",
      "Ward                                                0\n",
      "Geo X (Easting)                                    90\n",
      "Geo Y (Northing)                                   90\n",
      "Tenure Type                                         0\n",
      "Lease Out                                        3102\n",
      "Vacant                                           3805\n",
      "Holding Type                                        0\n",
      "Building Size - GIA (M2)                         2846\n",
      "Site Area (Hectares)                               17\n",
      "Occupied by Council / Direct Service Property    1796\n",
      "Purpose / Asset Category                            0\n",
      "Post Code                                        1571\n",
      "EPC Rating                                       2850\n",
      "Council Tax                                      2850\n",
      "Key Features                                     3637\n",
      "Property Rent/Sale History                          0\n",
      "Base Price                                       2846\n",
      "New Price                                        3958\n",
      "dtype: int64\n"
     ]
    }
   ],
   "source": [
    "# Diplay data info\n",
    "print(\"Initial Dataset Overview:\")\n",
    "print(merged_df.info())\n",
    "print(\"\\nMissing Values per Column:\")\n",
    "print(merged_df.isnull().sum())"
   ]
  },
  {
   "cell_type": "markdown",
   "id": "266fa935-8f21-4bd6-b1f8-d262de9b5eea",
   "metadata": {},
   "source": [
    "#### 1. Handling Missing Values"
   ]
  },
  {
   "cell_type": "code",
   "execution_count": 223,
   "id": "d4f8e990-a75d-49bf-adfd-d393564e1687",
   "metadata": {},
   "outputs": [
    {
     "name": "stdout",
     "output_type": "stream",
     "text": [
      "Filled missing values in Building Size - GIA (M2) with median: 184.95\n",
      "Skipping New Price as it has no non-null values to calculate the median.\n"
     ]
    }
   ],
   "source": [
    "# Fill missing numerical values with median\n",
    "num_cols = ['Building Size - GIA (M2)', 'New Price']\n",
    "for col in num_cols:\n",
    "    if merged_df[col].notna().sum() > 0:  # Check if column has non-null values\n",
    "        median_value = merged_df[col].median()\n",
    "        merged_df[col] = merged_df[col].fillna(median_value)  # Avoid inplace=True\n",
    "        print(f\"Filled missing values in {col} with median: {median_value}\")\n",
    "    else:\n",
    "        print(f\"Skipping {col} as it has no non-null values to calculate the median.\")"
   ]
  },
  {
   "cell_type": "code",
   "execution_count": 224,
   "id": "6d90e2be-3712-4f84-8520-ebe403d49217",
   "metadata": {},
   "outputs": [
    {
     "name": "stdout",
     "output_type": "stream",
     "text": [
      "Filled missing values in Tenure Type with 'Unknown'\n",
      "Filled missing values in Holding Type with 'Unknown'\n",
      "Filled missing values in Property Type with 'Unknown'\n"
     ]
    }
   ],
   "source": [
    "# Fill missing categorical values with 'Unknown'\n",
    "cat_cols = ['Tenure Type', 'Holding Type', 'Property Type']\n",
    "for col in cat_cols:\n",
    "    merged_df[col] = merged_df[col].fillna('Unknown')  # Avoid inplace=True\n",
    "    print(f\"Filled missing values in {col} with 'Unknown'\")"
   ]
  },
  {
   "cell_type": "code",
   "execution_count": 225,
   "id": "9bdbe8bd-f97c-4a9c-95bc-226891a4e01f",
   "metadata": {},
   "outputs": [],
   "source": [
    "# Drop rows with missing critical identifiers\n",
    "# merged_df.dropna(subset=['Property ID'], inplace=True)\n",
    "# print(\"Dropped rows with missing Property ID.\")"
   ]
  },
  {
   "cell_type": "code",
   "execution_count": 226,
   "id": "3c1383cc-a042-4e44-9a02-046b86f70674",
   "metadata": {},
   "outputs": [],
   "source": [
    "# # Drop columns with more than 30% missing values\n",
    "# missing_threshold = 0.3 * len(merged_df)\n",
    "# cols_to_drop = [col for col in merged_df.columns if merged_df[col].isnull().sum() > missing_threshold]\n",
    "# merged_df.drop(columns=cols_to_drop, inplace=True)\n",
    "# print(f\"Dropped columns with >30% missing values: {cols_to_drop}\")"
   ]
  },
  {
   "cell_type": "markdown",
   "id": "9fe5eb9c-b49d-459a-a0e0-89a974fe8ac3",
   "metadata": {},
   "source": [
    "#### 2. Data Cleaning & Formatting"
   ]
  },
  {
   "cell_type": "code",
   "execution_count": 227,
   "id": "1569cf17-68c8-440e-89f6-89b213853791",
   "metadata": {},
   "outputs": [
    {
     "name": "stdout",
     "output_type": "stream",
     "text": [
      "Converted 'Effective Date' to datetime format. 161 invalid entries were coerced to NaT.\n"
     ]
    }
   ],
   "source": [
    "# Convert 'Effective Date' to datetime format\n",
    "merged_df['Effective Date'] = pd.to_datetime(merged_df['Effective Date'], errors='coerce')\n",
    "print(f\"Converted 'Effective Date' to datetime format. {merged_df['Effective Date'].isna().sum()} invalid entries were coerced to NaT.\")"
   ]
  },
  {
   "cell_type": "code",
   "execution_count": 228,
   "id": "147c3015-896e-40c1-a216-42673ff31f0f",
   "metadata": {},
   "outputs": [
    {
     "name": "stdout",
     "output_type": "stream",
     "text": [
      "Standardized text formatting for 'Tenure Type'. Unique values after formatting: 12\n",
      "Standardized text formatting for 'Holding Type'. Unique values after formatting: 6\n",
      "Standardized text formatting for 'Property Type'. Unique values after formatting: 110\n"
     ]
    }
   ],
   "source": [
    "# Standardize text formatting for categorical columns\n",
    "cat_cols = ['Tenure Type', 'Holding Type', 'Property Type']\n",
    "for col in cat_cols:\n",
    "    merged_df[col] = merged_df[col].str.title().str.strip()\n",
    "    print(f\"Standardized text formatting for '{col}'. Unique values after formatting: {merged_df[col].nunique()}\")"
   ]
  },
  {
   "cell_type": "code",
   "execution_count": 229,
   "id": "f5c8b7db-8fb8-43dc-ae1e-6b8cecb6c1f0",
   "metadata": {},
   "outputs": [
    {
     "name": "stdout",
     "output_type": "stream",
     "text": [
      "Removed 0 duplicate entries based on 'Property ID'. New total row count: 3958.\n"
     ]
    }
   ],
   "source": [
    "# Remove duplicate entries based on 'Property ID'\n",
    "initial_rows = merged_df.shape[0]\n",
    "merged_df.drop_duplicates(subset=['Property ID'], inplace=True)\n",
    "removed_rows = initial_rows - merged_df.shape[0]\n",
    "print(f\"Removed {removed_rows} duplicate entries based on 'Property ID'. New total row count: {merged_df.shape[0]}.\")"
   ]
  },
  {
   "cell_type": "markdown",
   "id": "940e1a56-25cb-491a-a350-4e52d15fdd50",
   "metadata": {},
   "source": [
    "#### 3. Feature Engineering"
   ]
  },
  {
   "cell_type": "code",
   "execution_count": 230,
   "id": "d814ccde-5788-4750-8c1f-fbe5ab4bdcd1",
   "metadata": {},
   "outputs": [
    {
     "name": "stdout",
     "output_type": "stream",
     "text": [
      "Extracted 'Effective Year' from 'Effective Date'. Number of unique years: 2\n"
     ]
    }
   ],
   "source": [
    "# Extract Year from 'Effective Date'\n",
    "merged_df['Effective Year'] = merged_df['Effective Date'].dt.year\n",
    "print(f\"Extracted 'Effective Year' from 'Effective Date'. Number of unique years: {merged_df['Effective Year'].nunique()}\")"
   ]
  },
  {
   "cell_type": "code",
   "execution_count": 231,
   "id": "6ce6b24d-7fbd-4535-a5a3-ddf4be830ff6",
   "metadata": {},
   "outputs": [
    {
     "name": "stdout",
     "output_type": "stream",
     "text": [
      "Calculated 'Price Per Sq Meter'. Number of zero or missing values replaced: 0\n"
     ]
    }
   ],
   "source": [
    "# Calculate 'Price Per Sq Meter' (Handle Zero-Division)\n",
    "merged_df['Price Per Sq Meter'] = merged_df['Base Price'] / merged_df['Building Size - GIA (M2)']\n",
    "merged_df['Price Per Sq Meter'] = merged_df['Price Per Sq Meter'].replace([np.inf, -np.inf], np.nan)\n",
    "merged_df['Price Per Sq Meter'] = merged_df['Price Per Sq Meter'].fillna(0)\n",
    "\n",
    "# Output the number of zero or missing values replaced\n",
    "print(f\"Calculated 'Price Per Sq Meter'. Number of zero or missing values replaced: {merged_df['Price Per Sq Meter'].isna().sum()}\")\n"
   ]
  },
  {
   "cell_type": "code",
   "execution_count": 232,
   "id": "d55b17cb-1372-4237-8816-8868ce1610b2",
   "metadata": {},
   "outputs": [
    {
     "name": "stdout",
     "output_type": "stream",
     "text": [
      "Index(['Organisation Name', 'Effective Date', 'Property ID', 'Property Type',\n",
      "       'Property Name', 'Property Name/Address (Where no UPRN)',\n",
      "       'Street Number', 'Street', 'Town / Post Town', 'Postcode', 'Ward',\n",
      "       'Geo X (Easting)', 'Geo Y (Northing)', 'Tenure Type', 'Lease Out',\n",
      "       'Vacant', 'Holding Type', 'Building Size - GIA (M2)',\n",
      "       'Site Area (Hectares)', 'Occupied by Council / Direct Service Property',\n",
      "       'Purpose / Asset Category', 'Post Code', 'EPC Rating', 'Council Tax',\n",
      "       'Key Features', 'Property Rent/Sale History', 'Base Price', 'New Price',\n",
      "       'Effective Year', 'Price Per Sq Meter'],\n",
      "      dtype='object')\n"
     ]
    }
   ],
   "source": [
    "print(merged_df.columns)"
   ]
  },
  {
   "cell_type": "code",
   "execution_count": 233,
   "id": "3dd71817-76a2-416f-a491-44ba21990036",
   "metadata": {},
   "outputs": [
    {
     "name": "stdout",
     "output_type": "stream",
     "text": [
      "Created 'Property History Count' feature. Number of properties with no history: 0\n"
     ]
    }
   ],
   "source": [
    "# Create 'Property History Count' based on past records\n",
    "merged_df['Property History Count'] = merged_df['Property Rent/Sale History'].apply(lambda x: len(str(x).split(',')) if pd.notna(x) else 0)\n",
    "print(f\"Created 'Property History Count' feature. Number of properties with no history: {merged_df['Property History Count'].eq(0).sum()}\")"
   ]
  },
  {
   "cell_type": "code",
   "execution_count": 234,
   "id": "eaa0e6cb-628a-4d52-915a-915f6af52989",
   "metadata": {},
   "outputs": [
    {
     "name": "stdout",
     "output_type": "stream",
     "text": [
      "Categorized EPC Ratings into 'High', 'Medium', 'Low'. Number of 'Unknown' EPC Ratings: 2850\n"
     ]
    }
   ],
   "source": [
    "# Categorize EPC Ratings into 'High', 'Medium', 'Low'\n",
    "epc_mapping = {'A': 'High', 'B': 'High', 'C': 'Medium', 'D': 'Medium', 'E': 'Low', 'F': 'Low', 'G': 'Low'}\n",
    "merged_df['EPC Category'] = merged_df['EPC Rating'].map(epc_mapping).fillna('Unknown')\n",
    "print(f\"Categorized EPC Ratings into 'High', 'Medium', 'Low'. Number of 'Unknown' EPC Ratings: {merged_df['EPC Category'].eq('Unknown').sum()}\")"
   ]
  },
  {
   "cell_type": "markdown",
   "id": "1e33bdea-e5a0-45f7-99fc-04fd0a00a293",
   "metadata": {},
   "source": [
    "#### 4. Save Cleaned Dataset"
   ]
  },
  {
   "cell_type": "code",
   "execution_count": 235,
   "id": "44d3f342-f4a0-45b1-bc2e-2915ce53b7bb",
   "metadata": {},
   "outputs": [
    {
     "name": "stdout",
     "output_type": "stream",
     "text": [
      "Cleaned dataset saved successfully at cleaned_dataset.csv\n",
      "\n",
      "Final Dataset Overview:\n",
      "<class 'pandas.core.frame.DataFrame'>\n",
      "RangeIndex: 3958 entries, 0 to 3957\n",
      "Data columns (total 32 columns):\n",
      " #   Column                                         Non-Null Count  Dtype         \n",
      "---  ------                                         --------------  -----         \n",
      " 0   Organisation Name                              3958 non-null   object        \n",
      " 1   Effective Date                                 3797 non-null   datetime64[ns]\n",
      " 2   Property ID                                    3958 non-null   int64         \n",
      " 3   Property Type                                  3958 non-null   object        \n",
      " 4   Property Name                                  3958 non-null   object        \n",
      " 5   Property Name/Address (Where no UPRN)          3868 non-null   object        \n",
      " 6   Street Number                                  482 non-null    float64       \n",
      " 7   Street                                         1891 non-null   object        \n",
      " 8   Town / Post Town                               1891 non-null   object        \n",
      " 9   Postcode                                       1560 non-null   object        \n",
      " 10  Ward                                           3958 non-null   object        \n",
      " 11  Geo X (Easting)                                3868 non-null   float64       \n",
      " 12  Geo Y (Northing)                               3868 non-null   float64       \n",
      " 13  Tenure Type                                    3958 non-null   object        \n",
      " 14  Lease Out                                      856 non-null    object        \n",
      " 15  Vacant                                         153 non-null    object        \n",
      " 16  Holding Type                                   3958 non-null   object        \n",
      " 17  Building Size - GIA (M2)                       3958 non-null   float64       \n",
      " 18  Site Area (Hectares)                           3941 non-null   float64       \n",
      " 19  Occupied by Council / Direct Service Property  2162 non-null   object        \n",
      " 20  Purpose / Asset Category                       3958 non-null   object        \n",
      " 21  Post Code                                      2387 non-null   object        \n",
      " 22  EPC Rating                                     1108 non-null   object        \n",
      " 23  Council Tax                                    1108 non-null   float64       \n",
      " 24  Key Features                                   321 non-null    object        \n",
      " 25  Property Rent/Sale History                     3958 non-null   object        \n",
      " 26  Base Price                                     1112 non-null   float64       \n",
      " 27  New Price                                      0 non-null      float64       \n",
      " 28  Effective Year                                 3797 non-null   float64       \n",
      " 29  Price Per Sq Meter                             3958 non-null   float64       \n",
      " 30  Property History Count                         3958 non-null   int64         \n",
      " 31  EPC Category                                   3958 non-null   object        \n",
      "dtypes: datetime64[ns](1), float64(10), int64(2), object(19)\n",
      "memory usage: 989.6+ KB\n",
      "None\n"
     ]
    }
   ],
   "source": [
    "cleaned_file_path = \"cleaned_dataset.csv\"\n",
    "merged_df.to_csv(cleaned_file_path, index=False)\n",
    "print(f\"Cleaned dataset saved successfully at {cleaned_file_path}\")\n",
    "\n",
    "# Display final dataset info\n",
    "print(\"\\nFinal Dataset Overview:\")\n",
    "print(merged_df.info())"
   ]
  },
  {
   "cell_type": "code",
   "execution_count": null,
   "id": "e9e6fc2a-5c78-4f6f-acb7-5d68179954e4",
   "metadata": {},
   "outputs": [],
   "source": []
  }
 ],
 "metadata": {
  "kernelspec": {
   "display_name": "Python 3 (ipykernel)",
   "language": "python",
   "name": "python3"
  },
  "language_info": {
   "codemirror_mode": {
    "name": "ipython",
    "version": 3
   },
   "file_extension": ".py",
   "mimetype": "text/x-python",
   "name": "python",
   "nbconvert_exporter": "python",
   "pygments_lexer": "ipython3",
   "version": "3.12.5"
  }
 },
 "nbformat": 4,
 "nbformat_minor": 5
}
