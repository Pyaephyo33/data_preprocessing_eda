{
 "cells": [
  {
   "cell_type": "markdown",
   "id": "1321c441-b590-471d-8fc9-907a048d9386",
   "metadata": {},
   "source": [
    "## Data Preprocessing"
   ]
  },
  {
   "cell_type": "code",
   "execution_count": 1,
   "id": "32dc947b-e3bf-4564-9659-168a212a0dbb",
   "metadata": {},
   "outputs": [],
   "source": [
    "### Load Libraries\n",
    "import pandas as pd\n",
    "import numpy as np"
   ]
  },
  {
   "cell_type": "code",
   "execution_count": 46,
   "id": "bf0469a5-124e-48a2-ad40-068a9734cad2",
   "metadata": {},
   "outputs": [],
   "source": [
    "# load merged dataset\n",
    "file_path = \"merged_dataset.csv\" \n",
    "merged_df = pd.read_csv(file_path)"
   ]
  },
  {
   "cell_type": "code",
   "execution_count": 47,
   "id": "98cbccb0-0674-4004-8f97-dfd6733dd10f",
   "metadata": {},
   "outputs": [
    {
     "name": "stdout",
     "output_type": "stream",
     "text": [
      "Initial Dataset Overview:\n",
      "<class 'pandas.core.frame.DataFrame'>\n",
      "RangeIndex: 326 entries, 0 to 325\n",
      "Data columns (total 26 columns):\n",
      " #   Column                                         Non-Null Count  Dtype  \n",
      "---  ------                                         --------------  -----  \n",
      " 0   Organisation Name                              326 non-null    object \n",
      " 1   Effective Date                                 326 non-null    object \n",
      " 2   Property ID                                    326 non-null    int64  \n",
      " 3   Property Type                                  326 non-null    object \n",
      " 4   Property Name                                  326 non-null    object \n",
      " 5   Property Name/Address (Where no UPRN)          317 non-null    object \n",
      " 6   Street Number                                  93 non-null     float64\n",
      " 7   Street                                         220 non-null    object \n",
      " 8   Town / Post Town                               220 non-null    object \n",
      " 9   Postcode                                       326 non-null    object \n",
      " 10  Ward                                           326 non-null    object \n",
      " 11  Geo X (Easting)                                317 non-null    float64\n",
      " 12  Geo Y (Northing)                               317 non-null    float64\n",
      " 13  Tenure Type                                    326 non-null    object \n",
      " 14  Vacant                                         26 non-null     object \n",
      " 15  Holding Type                                   326 non-null    object \n",
      " 16  Building Size - GIA (M2)                       139 non-null    float64\n",
      " 17  Site Area (Hectares)                           324 non-null    float64\n",
      " 18  Occupied by Council / Direct Service Property  120 non-null    object \n",
      " 19  Purpose / Asset Category                       326 non-null    object \n",
      " 20  EPC Rating                                     139 non-null    object \n",
      " 21  Council Tax                                    139 non-null    float64\n",
      " 22  Key Features                                   0 non-null      float64\n",
      " 23  Property Rent/Sale History                     326 non-null    object \n",
      " 24  Base Price                                     139 non-null    float64\n",
      " 25  New Price                                      0 non-null      float64\n",
      "dtypes: float64(9), int64(1), object(16)\n",
      "memory usage: 66.3+ KB\n",
      "None\n",
      "\n",
      "Missing Values per Column:\n",
      "Organisation Name                                  0\n",
      "Effective Date                                     0\n",
      "Property ID                                        0\n",
      "Property Type                                      0\n",
      "Property Name                                      0\n",
      "Property Name/Address (Where no UPRN)              9\n",
      "Street Number                                    233\n",
      "Street                                           106\n",
      "Town / Post Town                                 106\n",
      "Postcode                                           0\n",
      "Ward                                               0\n",
      "Geo X (Easting)                                    9\n",
      "Geo Y (Northing)                                   9\n",
      "Tenure Type                                        0\n",
      "Vacant                                           300\n",
      "Holding Type                                       0\n",
      "Building Size - GIA (M2)                         187\n",
      "Site Area (Hectares)                               2\n",
      "Occupied by Council / Direct Service Property    206\n",
      "Purpose / Asset Category                           0\n",
      "EPC Rating                                       187\n",
      "Council Tax                                      187\n",
      "Key Features                                     326\n",
      "Property Rent/Sale History                         0\n",
      "Base Price                                       187\n",
      "New Price                                        326\n",
      "dtype: int64\n"
     ]
    }
   ],
   "source": [
    "# Diplay data info\n",
    "print(\"Initial Dataset Overview:\")\n",
    "print(merged_df.info())\n",
    "print(\"\\nMissing Values per Column:\")\n",
    "print(merged_df.isnull().sum())"
   ]
  },
  {
   "cell_type": "markdown",
   "id": "266fa935-8f21-4bd6-b1f8-d262de9b5eea",
   "metadata": {},
   "source": [
    "#### 1. Handling Missing Values"
   ]
  },
  {
   "cell_type": "code",
   "execution_count": 48,
   "id": "d4f8e990-a75d-49bf-adfd-d393564e1687",
   "metadata": {},
   "outputs": [
    {
     "name": "stdout",
     "output_type": "stream",
     "text": [
      "Filled missing values in Building Size - GIA (M2) with median: 95.0\n",
      "Skipping New Price as it has no non-null values to calculate the median.\n"
     ]
    }
   ],
   "source": [
    "# Fill missing numerical values with median\n",
    "num_cols = ['Building Size - GIA (M2)', 'New Price']\n",
    "for col in num_cols:\n",
    "    if merged_df[col].notna().sum() > 0:  # Check if column has non-null values\n",
    "        median_value = merged_df[col].median()\n",
    "        merged_df[col] = merged_df[col].fillna(median_value)  # Avoid inplace=True\n",
    "        print(f\"Filled missing values in {col} with median: {median_value}\")\n",
    "    else:\n",
    "        print(f\"Skipping {col} as it has no non-null values to calculate the median.\")"
   ]
  },
  {
   "cell_type": "code",
   "execution_count": 49,
   "id": "6d90e2be-3712-4f84-8520-ebe403d49217",
   "metadata": {},
   "outputs": [
    {
     "name": "stdout",
     "output_type": "stream",
     "text": [
      "Filled missing values in Tenure Type with 'Unknown'\n",
      "Filled missing values in Holding Type with 'Unknown'\n",
      "Filled missing values in Property Type with 'Unknown'\n"
     ]
    }
   ],
   "source": [
    "# Fill missing categorical values with 'Unknown'\n",
    "cat_cols = ['Tenure Type', 'Holding Type', 'Property Type']\n",
    "for col in cat_cols:\n",
    "    merged_df[col] = merged_df[col].fillna('Unknown')  # Avoid inplace=True\n",
    "    print(f\"Filled missing values in {col} with 'Unknown'\")"
   ]
  },
  {
   "cell_type": "markdown",
   "id": "9fe5eb9c-b49d-459a-a0e0-89a974fe8ac3",
   "metadata": {},
   "source": [
    "#### 2. Data Cleaning & Formatting"
   ]
  },
  {
   "cell_type": "code",
   "execution_count": 50,
   "id": "1569cf17-68c8-440e-89f6-89b213853791",
   "metadata": {},
   "outputs": [
    {
     "name": "stdout",
     "output_type": "stream",
     "text": [
      "Converted 'Effective Date' to datetime format. 25 invalid entries were coerced to NaT.\n"
     ]
    }
   ],
   "source": [
    "# Convert 'Effective Date' to datetime format\n",
    "merged_df['Effective Date'] = pd.to_datetime(merged_df['Effective Date'], errors='coerce')\n",
    "print(f\"Converted 'Effective Date' to datetime format. {merged_df['Effective Date'].isna().sum()} invalid entries were coerced to NaT.\")"
   ]
  },
  {
   "cell_type": "code",
   "execution_count": 51,
   "id": "147c3015-896e-40c1-a216-42673ff31f0f",
   "metadata": {},
   "outputs": [
    {
     "name": "stdout",
     "output_type": "stream",
     "text": [
      "Standardized text formatting for 'Tenure Type'. Unique values after formatting: 7\n",
      "Standardized text formatting for 'Holding Type'. Unique values after formatting: 6\n",
      "Standardized text formatting for 'Property Type'. Unique values after formatting: 29\n"
     ]
    }
   ],
   "source": [
    "# Standardize text formatting for categorical columns\n",
    "cat_cols = ['Tenure Type', 'Holding Type', 'Property Type']\n",
    "for col in cat_cols:\n",
    "    merged_df[col] = merged_df[col].str.title().str.strip()\n",
    "    print(f\"Standardized text formatting for '{col}'. Unique values after formatting: {merged_df[col].nunique()}\")"
   ]
  },
  {
   "cell_type": "code",
   "execution_count": 52,
   "id": "f5c8b7db-8fb8-43dc-ae1e-6b8cecb6c1f0",
   "metadata": {},
   "outputs": [
    {
     "name": "stdout",
     "output_type": "stream",
     "text": [
      "Removed 0 duplicate entries based on 'Property ID'. New total row count: 326.\n"
     ]
    }
   ],
   "source": [
    "# Remove duplicate entries based on 'Property ID'\n",
    "initial_rows = merged_df.shape[0]\n",
    "merged_df.drop_duplicates(subset=['Property ID'], inplace=True)\n",
    "removed_rows = initial_rows - merged_df.shape[0]\n",
    "print(f\"Removed {removed_rows} duplicate entries based on 'Property ID'. New total row count: {merged_df.shape[0]}.\")"
   ]
  },
  {
   "cell_type": "markdown",
   "id": "940e1a56-25cb-491a-a350-4e52d15fdd50",
   "metadata": {},
   "source": [
    "#### 3. Feature Engineering"
   ]
  },
  {
   "cell_type": "code",
   "execution_count": 53,
   "id": "d814ccde-5788-4750-8c1f-fbe5ab4bdcd1",
   "metadata": {},
   "outputs": [
    {
     "name": "stdout",
     "output_type": "stream",
     "text": [
      "Extracted 'Effective Year' from 'Effective Date'. Number of unique years: 2\n"
     ]
    }
   ],
   "source": [
    "# Extract Year from 'Effective Date'\n",
    "merged_df['Effective Year'] = merged_df['Effective Date'].dt.year\n",
    "print(f\"Extracted 'Effective Year' from 'Effective Date'. Number of unique years: {merged_df['Effective Year'].nunique()}\")"
   ]
  },
  {
   "cell_type": "code",
   "execution_count": 54,
   "id": "6ce6b24d-7fbd-4535-a5a3-ddf4be830ff6",
   "metadata": {},
   "outputs": [
    {
     "name": "stdout",
     "output_type": "stream",
     "text": [
      "Calculated 'Price Per Sq Meter'. Number of zero or missing values replaced: 0\n"
     ]
    }
   ],
   "source": [
    "# Calculate 'Price Per Sq Meter' (Handle Zero-Division)\n",
    "merged_df['Price Per Sq Meter'] = merged_df['Base Price'] / merged_df['Building Size - GIA (M2)']\n",
    "merged_df['Price Per Sq Meter'] = merged_df['Price Per Sq Meter'].replace([np.inf, -np.inf], np.nan)\n",
    "merged_df['Price Per Sq Meter'] = merged_df['Price Per Sq Meter'].fillna(0)\n",
    "\n",
    "# Output the number of zero or missing values replaced\n",
    "print(f\"Calculated 'Price Per Sq Meter'. Number of zero or missing values replaced: {merged_df['Price Per Sq Meter'].isna().sum()}\")\n"
   ]
  },
  {
   "cell_type": "code",
   "execution_count": 55,
   "id": "d55b17cb-1372-4237-8816-8868ce1610b2",
   "metadata": {},
   "outputs": [
    {
     "name": "stdout",
     "output_type": "stream",
     "text": [
      "Index(['Organisation Name', 'Effective Date', 'Property ID', 'Property Type',\n",
      "       'Property Name', 'Property Name/Address (Where no UPRN)',\n",
      "       'Street Number', 'Street', 'Town / Post Town', 'Postcode', 'Ward',\n",
      "       'Geo X (Easting)', 'Geo Y (Northing)', 'Tenure Type', 'Vacant',\n",
      "       'Holding Type', 'Building Size - GIA (M2)', 'Site Area (Hectares)',\n",
      "       'Occupied by Council / Direct Service Property',\n",
      "       'Purpose / Asset Category', 'EPC Rating', 'Council Tax', 'Key Features',\n",
      "       'Property Rent/Sale History', 'Base Price', 'New Price',\n",
      "       'Effective Year', 'Price Per Sq Meter'],\n",
      "      dtype='object')\n"
     ]
    }
   ],
   "source": [
    "print(merged_df.columns)"
   ]
  },
  {
   "cell_type": "code",
   "execution_count": 56,
   "id": "3dd71817-76a2-416f-a491-44ba21990036",
   "metadata": {},
   "outputs": [
    {
     "name": "stdout",
     "output_type": "stream",
     "text": [
      "Created 'Property History Count' feature. Number of properties with no history: 0\n"
     ]
    }
   ],
   "source": [
    "# Create 'Property History Count' based on past records\n",
    "merged_df['Property History Count'] = merged_df['Property Rent/Sale History'].apply(lambda x: len(str(x).split(',')) if pd.notna(x) else 0)\n",
    "print(f\"Created 'Property History Count' feature. Number of properties with no history: {merged_df['Property History Count'].eq(0).sum()}\")"
   ]
  },
  {
   "cell_type": "code",
   "execution_count": 57,
   "id": "eaa0e6cb-628a-4d52-915a-915f6af52989",
   "metadata": {},
   "outputs": [
    {
     "name": "stdout",
     "output_type": "stream",
     "text": [
      "Categorized EPC Ratings into 'High', 'Medium', 'Low'. Number of 'Unknown' EPC Ratings: 187\n"
     ]
    }
   ],
   "source": [
    "# Categorize EPC Ratings into 'High', 'Medium', 'Low'\n",
    "epc_mapping = {'A': 'High', 'B': 'High', 'C': 'Medium', 'D': 'Medium', 'E': 'Low', 'F': 'Low', 'G': 'Low'}\n",
    "merged_df['EPC Category'] = merged_df['EPC Rating'].map(epc_mapping).fillna('Unknown')\n",
    "print(f\"Categorized EPC Ratings into 'High', 'Medium', 'Low'. Number of 'Unknown' EPC Ratings: {merged_df['EPC Category'].eq('Unknown').sum()}\")"
   ]
  },
  {
   "cell_type": "markdown",
   "id": "1e33bdea-e5a0-45f7-99fc-04fd0a00a293",
   "metadata": {},
   "source": [
    "#### 4. Save Cleaned Dataset"
   ]
  },
  {
   "cell_type": "code",
   "execution_count": 58,
   "id": "44d3f342-f4a0-45b1-bc2e-2915ce53b7bb",
   "metadata": {},
   "outputs": [
    {
     "name": "stdout",
     "output_type": "stream",
     "text": [
      "Cleaned dataset saved successfully at cleaned_dataset.csv\n",
      "\n",
      "Final Dataset Overview:\n",
      "<class 'pandas.core.frame.DataFrame'>\n",
      "RangeIndex: 326 entries, 0 to 325\n",
      "Data columns (total 30 columns):\n",
      " #   Column                                         Non-Null Count  Dtype         \n",
      "---  ------                                         --------------  -----         \n",
      " 0   Organisation Name                              326 non-null    object        \n",
      " 1   Effective Date                                 301 non-null    datetime64[ns]\n",
      " 2   Property ID                                    326 non-null    int64         \n",
      " 3   Property Type                                  326 non-null    object        \n",
      " 4   Property Name                                  326 non-null    object        \n",
      " 5   Property Name/Address (Where no UPRN)          317 non-null    object        \n",
      " 6   Street Number                                  93 non-null     float64       \n",
      " 7   Street                                         220 non-null    object        \n",
      " 8   Town / Post Town                               220 non-null    object        \n",
      " 9   Postcode                                       326 non-null    object        \n",
      " 10  Ward                                           326 non-null    object        \n",
      " 11  Geo X (Easting)                                317 non-null    float64       \n",
      " 12  Geo Y (Northing)                               317 non-null    float64       \n",
      " 13  Tenure Type                                    326 non-null    object        \n",
      " 14  Vacant                                         26 non-null     object        \n",
      " 15  Holding Type                                   326 non-null    object        \n",
      " 16  Building Size - GIA (M2)                       326 non-null    float64       \n",
      " 17  Site Area (Hectares)                           324 non-null    float64       \n",
      " 18  Occupied by Council / Direct Service Property  120 non-null    object        \n",
      " 19  Purpose / Asset Category                       326 non-null    object        \n",
      " 20  EPC Rating                                     139 non-null    object        \n",
      " 21  Council Tax                                    139 non-null    float64       \n",
      " 22  Key Features                                   0 non-null      float64       \n",
      " 23  Property Rent/Sale History                     326 non-null    object        \n",
      " 24  Base Price                                     139 non-null    float64       \n",
      " 25  New Price                                      0 non-null      float64       \n",
      " 26  Effective Year                                 301 non-null    float64       \n",
      " 27  Price Per Sq Meter                             326 non-null    float64       \n",
      " 28  Property History Count                         326 non-null    int64         \n",
      " 29  EPC Category                                   326 non-null    object        \n",
      "dtypes: datetime64[ns](1), float64(11), int64(2), object(16)\n",
      "memory usage: 76.5+ KB\n",
      "None\n"
     ]
    }
   ],
   "source": [
    "cleaned_file_path = \"cleaned_dataset.csv\"\n",
    "merged_df.to_csv(cleaned_file_path, index=False)\n",
    "print(f\"Cleaned dataset saved successfully at {cleaned_file_path}\")\n",
    "\n",
    "# Display final dataset info\n",
    "print(\"\\nFinal Dataset Overview:\")\n",
    "print(merged_df.info())"
   ]
  },
  {
   "cell_type": "code",
   "execution_count": 2,
   "id": "0681f811-1355-4c06-873d-0e8c5fe703cb",
   "metadata": {},
   "outputs": [
    {
     "data": {
      "text/html": [
       "<div>\n",
       "<style scoped>\n",
       "    .dataframe tbody tr th:only-of-type {\n",
       "        vertical-align: middle;\n",
       "    }\n",
       "\n",
       "    .dataframe tbody tr th {\n",
       "        vertical-align: top;\n",
       "    }\n",
       "\n",
       "    .dataframe thead th {\n",
       "        text-align: right;\n",
       "    }\n",
       "</style>\n",
       "<table border=\"1\" class=\"dataframe\">\n",
       "  <thead>\n",
       "    <tr style=\"text-align: right;\">\n",
       "      <th></th>\n",
       "      <th>Organisation Name</th>\n",
       "      <th>Effective Date</th>\n",
       "      <th>Property ID</th>\n",
       "      <th>Property Type</th>\n",
       "      <th>Property Name</th>\n",
       "      <th>Property Name/Address (Where no UPRN)</th>\n",
       "      <th>Street Number</th>\n",
       "      <th>Street</th>\n",
       "      <th>Town / Post Town</th>\n",
       "      <th>Postcode</th>\n",
       "      <th>...</th>\n",
       "      <th>EPC Rating</th>\n",
       "      <th>Council Tax</th>\n",
       "      <th>Key Features</th>\n",
       "      <th>Property Rent/Sale History</th>\n",
       "      <th>Base Price</th>\n",
       "      <th>New Price</th>\n",
       "      <th>Effective Year</th>\n",
       "      <th>Price Per Sq Meter</th>\n",
       "      <th>Property History Count</th>\n",
       "      <th>EPC Category</th>\n",
       "    </tr>\n",
       "  </thead>\n",
       "  <tbody>\n",
       "    <tr>\n",
       "      <th>0</th>\n",
       "      <td>Bristol, City of</td>\n",
       "      <td>2022-07-01</td>\n",
       "      <td>938</td>\n",
       "      <td>House/Houses</td>\n",
       "      <td>St Pius X RC VA Primary School House</td>\n",
       "      <td>St Pius X RC VA Primary School House Gatehouse...</td>\n",
       "      <td>NaN</td>\n",
       "      <td>Gatehouse Avenue</td>\n",
       "      <td>Bristol</td>\n",
       "      <td>BS13 9AB</td>\n",
       "      <td>...</td>\n",
       "      <td>NaN</td>\n",
       "      <td>NaN</td>\n",
       "      <td>NaN</td>\n",
       "      <td>2013, 2016, 2021, 2023, 2025</td>\n",
       "      <td>NaN</td>\n",
       "      <td>NaN</td>\n",
       "      <td>2022.0</td>\n",
       "      <td>0.00000</td>\n",
       "      <td>5</td>\n",
       "      <td>Unknown</td>\n",
       "    </tr>\n",
       "    <tr>\n",
       "      <th>1</th>\n",
       "      <td>Bristol, City of</td>\n",
       "      <td>2022-07-01</td>\n",
       "      <td>941</td>\n",
       "      <td>Land-Unused Land</td>\n",
       "      <td>Former Fulford Centre</td>\n",
       "      <td>Former Fulford Centre Fulford Road Hartcliffe ...</td>\n",
       "      <td>NaN</td>\n",
       "      <td>NaN</td>\n",
       "      <td>NaN</td>\n",
       "      <td>BS13</td>\n",
       "      <td>...</td>\n",
       "      <td>E</td>\n",
       "      <td>1800.0</td>\n",
       "      <td>NaN</td>\n",
       "      <td>2014, 2015, 2016, 2017, 2021</td>\n",
       "      <td>291200.0</td>\n",
       "      <td>NaN</td>\n",
       "      <td>2022.0</td>\n",
       "      <td>0.00000</td>\n",
       "      <td>5</td>\n",
       "      <td>Low</td>\n",
       "    </tr>\n",
       "    <tr>\n",
       "      <th>2</th>\n",
       "      <td>Bristol, City of</td>\n",
       "      <td>2022-07-01</td>\n",
       "      <td>949</td>\n",
       "      <td>House/Houses</td>\n",
       "      <td>St Bernadettes RC VA Primary School House</td>\n",
       "      <td>St Bernadettes RC VA Primary School House 17 G...</td>\n",
       "      <td>17.0</td>\n",
       "      <td>Gladstone Road</td>\n",
       "      <td>Bristol</td>\n",
       "      <td>BS14 9LP</td>\n",
       "      <td>...</td>\n",
       "      <td>NaN</td>\n",
       "      <td>NaN</td>\n",
       "      <td>NaN</td>\n",
       "      <td>2010, 2014, 2016, 2020, 2021, 2024</td>\n",
       "      <td>NaN</td>\n",
       "      <td>NaN</td>\n",
       "      <td>2022.0</td>\n",
       "      <td>0.00000</td>\n",
       "      <td>6</td>\n",
       "      <td>Unknown</td>\n",
       "    </tr>\n",
       "    <tr>\n",
       "      <th>3</th>\n",
       "      <td>Bristol, City of</td>\n",
       "      <td>2022-07-01</td>\n",
       "      <td>950</td>\n",
       "      <td>House Service Occupancy</td>\n",
       "      <td>St Bernadettes RC SA Secondary School House</td>\n",
       "      <td>St Bernadettes RC SA Secondary School House Fo...</td>\n",
       "      <td>NaN</td>\n",
       "      <td>Fossedale Avenue</td>\n",
       "      <td>Bristol</td>\n",
       "      <td>BS14 9LS</td>\n",
       "      <td>...</td>\n",
       "      <td>NaN</td>\n",
       "      <td>NaN</td>\n",
       "      <td>NaN</td>\n",
       "      <td>2013, 2016, 2018, 2020, 2021, 2022</td>\n",
       "      <td>NaN</td>\n",
       "      <td>NaN</td>\n",
       "      <td>2022.0</td>\n",
       "      <td>0.00000</td>\n",
       "      <td>6</td>\n",
       "      <td>Unknown</td>\n",
       "    </tr>\n",
       "    <tr>\n",
       "      <th>4</th>\n",
       "      <td>Bristol, City of</td>\n",
       "      <td>2022-07-01</td>\n",
       "      <td>139020</td>\n",
       "      <td>Land-Residential</td>\n",
       "      <td>Fulford Road - Land Rear Of 95-105</td>\n",
       "      <td>Fulford Road - Land Rear Of 95-105 Fulford Roa...</td>\n",
       "      <td>NaN</td>\n",
       "      <td>NaN</td>\n",
       "      <td>NaN</td>\n",
       "      <td>BS13</td>\n",
       "      <td>...</td>\n",
       "      <td>NaN</td>\n",
       "      <td>NaN</td>\n",
       "      <td>NaN</td>\n",
       "      <td>2016, 2017, 2021, 2022, 2024</td>\n",
       "      <td>NaN</td>\n",
       "      <td>NaN</td>\n",
       "      <td>2022.0</td>\n",
       "      <td>0.00000</td>\n",
       "      <td>5</td>\n",
       "      <td>Unknown</td>\n",
       "    </tr>\n",
       "    <tr>\n",
       "      <th>5</th>\n",
       "      <td>Bristol, City of</td>\n",
       "      <td>2022-07-01</td>\n",
       "      <td>973</td>\n",
       "      <td>House/Houses</td>\n",
       "      <td>Waycroft Academy House</td>\n",
       "      <td>Waycroft Academy House Selden Road Stockwood B...</td>\n",
       "      <td>NaN</td>\n",
       "      <td>Selden Road</td>\n",
       "      <td>Bristol</td>\n",
       "      <td>BS14 8PS</td>\n",
       "      <td>...</td>\n",
       "      <td>E</td>\n",
       "      <td>1800.0</td>\n",
       "      <td>NaN</td>\n",
       "      <td>2011, 2012, 2013, 2016, 2017, 2021, 2024</td>\n",
       "      <td>291200.0</td>\n",
       "      <td>NaN</td>\n",
       "      <td>2022.0</td>\n",
       "      <td>3462.54459</td>\n",
       "      <td>7</td>\n",
       "      <td>Low</td>\n",
       "    </tr>\n",
       "    <tr>\n",
       "      <th>6</th>\n",
       "      <td>Bristol, City of</td>\n",
       "      <td>2022-07-01</td>\n",
       "      <td>985</td>\n",
       "      <td>House/Houses</td>\n",
       "      <td>Four Acres Primary School House</td>\n",
       "      <td>Four Acres Primary School House 93 Four Acres ...</td>\n",
       "      <td>93.0</td>\n",
       "      <td>Four Acres</td>\n",
       "      <td>Bristol</td>\n",
       "      <td>BS13 8RB</td>\n",
       "      <td>...</td>\n",
       "      <td>NaN</td>\n",
       "      <td>NaN</td>\n",
       "      <td>NaN</td>\n",
       "      <td>2012, 2013, 2014, 2016, 2021, 2025</td>\n",
       "      <td>NaN</td>\n",
       "      <td>NaN</td>\n",
       "      <td>2022.0</td>\n",
       "      <td>0.00000</td>\n",
       "      <td>6</td>\n",
       "      <td>Unknown</td>\n",
       "    </tr>\n",
       "    <tr>\n",
       "      <th>7</th>\n",
       "      <td>Bristol, City of</td>\n",
       "      <td>2022-07-01</td>\n",
       "      <td>1000</td>\n",
       "      <td>House Service Occupancy</td>\n",
       "      <td>Teyfant Primary School (Former) - School House</td>\n",
       "      <td>Teyfant Primary School (Former) - School House...</td>\n",
       "      <td>NaN</td>\n",
       "      <td>Teyfant Road</td>\n",
       "      <td>Bristol</td>\n",
       "      <td>BS13 0RF</td>\n",
       "      <td>...</td>\n",
       "      <td>NaN</td>\n",
       "      <td>NaN</td>\n",
       "      <td>NaN</td>\n",
       "      <td>2014, 2015, 2016, 2019, 2021, 2022</td>\n",
       "      <td>NaN</td>\n",
       "      <td>NaN</td>\n",
       "      <td>2022.0</td>\n",
       "      <td>0.00000</td>\n",
       "      <td>6</td>\n",
       "      <td>Unknown</td>\n",
       "    </tr>\n",
       "    <tr>\n",
       "      <th>8</th>\n",
       "      <td>Bristol, City of</td>\n",
       "      <td>2022-07-01</td>\n",
       "      <td>1358</td>\n",
       "      <td>Land-Verge</td>\n",
       "      <td>Wedmore Vale - Land Fronting 32</td>\n",
       "      <td>Wedmore Vale - Land Fronting 32 Wedmore Vale B...</td>\n",
       "      <td>32.0</td>\n",
       "      <td>Wedmore Vale</td>\n",
       "      <td>Bristol</td>\n",
       "      <td>BS3 5HX</td>\n",
       "      <td>...</td>\n",
       "      <td>NaN</td>\n",
       "      <td>NaN</td>\n",
       "      <td>NaN</td>\n",
       "      <td>2014, 2016, 2021, 2024</td>\n",
       "      <td>NaN</td>\n",
       "      <td>NaN</td>\n",
       "      <td>2022.0</td>\n",
       "      <td>0.00000</td>\n",
       "      <td>4</td>\n",
       "      <td>Unknown</td>\n",
       "    </tr>\n",
       "    <tr>\n",
       "      <th>9</th>\n",
       "      <td>Bristol, City of</td>\n",
       "      <td>2022-07-01</td>\n",
       "      <td>1261</td>\n",
       "      <td>Land-Verge</td>\n",
       "      <td>Dorset Road - Land Adj 15</td>\n",
       "      <td>Dorset Road - Land Adj 15 Dorset Road Henleaze...</td>\n",
       "      <td>15.0</td>\n",
       "      <td>Dorset Road</td>\n",
       "      <td>Bristol</td>\n",
       "      <td>BS9 4BJ</td>\n",
       "      <td>...</td>\n",
       "      <td>NaN</td>\n",
       "      <td>NaN</td>\n",
       "      <td>NaN</td>\n",
       "      <td>2010, 2013, 2016, 2020, 2021</td>\n",
       "      <td>NaN</td>\n",
       "      <td>NaN</td>\n",
       "      <td>2022.0</td>\n",
       "      <td>0.00000</td>\n",
       "      <td>5</td>\n",
       "      <td>Unknown</td>\n",
       "    </tr>\n",
       "  </tbody>\n",
       "</table>\n",
       "<p>10 rows × 30 columns</p>\n",
       "</div>"
      ],
      "text/plain": [
       "  Organisation Name Effective Date  Property ID            Property Type  \\\n",
       "0  Bristol, City of     2022-07-01          938             House/Houses   \n",
       "1  Bristol, City of     2022-07-01          941         Land-Unused Land   \n",
       "2  Bristol, City of     2022-07-01          949             House/Houses   \n",
       "3  Bristol, City of     2022-07-01          950  House Service Occupancy   \n",
       "4  Bristol, City of     2022-07-01       139020         Land-Residential   \n",
       "5  Bristol, City of     2022-07-01          973             House/Houses   \n",
       "6  Bristol, City of     2022-07-01          985             House/Houses   \n",
       "7  Bristol, City of     2022-07-01         1000  House Service Occupancy   \n",
       "8  Bristol, City of     2022-07-01         1358               Land-Verge   \n",
       "9  Bristol, City of     2022-07-01         1261               Land-Verge   \n",
       "\n",
       "                                    Property Name  \\\n",
       "0            St Pius X RC VA Primary School House   \n",
       "1                           Former Fulford Centre   \n",
       "2       St Bernadettes RC VA Primary School House   \n",
       "3     St Bernadettes RC SA Secondary School House   \n",
       "4              Fulford Road - Land Rear Of 95-105   \n",
       "5                          Waycroft Academy House   \n",
       "6                 Four Acres Primary School House   \n",
       "7  Teyfant Primary School (Former) - School House   \n",
       "8                 Wedmore Vale - Land Fronting 32   \n",
       "9                       Dorset Road - Land Adj 15   \n",
       "\n",
       "               Property Name/Address (Where no UPRN)  Street Number  \\\n",
       "0  St Pius X RC VA Primary School House Gatehouse...            NaN   \n",
       "1  Former Fulford Centre Fulford Road Hartcliffe ...            NaN   \n",
       "2  St Bernadettes RC VA Primary School House 17 G...           17.0   \n",
       "3  St Bernadettes RC SA Secondary School House Fo...            NaN   \n",
       "4  Fulford Road - Land Rear Of 95-105 Fulford Roa...            NaN   \n",
       "5  Waycroft Academy House Selden Road Stockwood B...            NaN   \n",
       "6  Four Acres Primary School House 93 Four Acres ...           93.0   \n",
       "7  Teyfant Primary School (Former) - School House...            NaN   \n",
       "8  Wedmore Vale - Land Fronting 32 Wedmore Vale B...           32.0   \n",
       "9  Dorset Road - Land Adj 15 Dorset Road Henleaze...           15.0   \n",
       "\n",
       "             Street Town / Post Town  Postcode  ... EPC Rating  Council Tax  \\\n",
       "0  Gatehouse Avenue          Bristol  BS13 9AB  ...        NaN          NaN   \n",
       "1               NaN              NaN     BS13   ...          E       1800.0   \n",
       "2    Gladstone Road          Bristol  BS14 9LP  ...        NaN          NaN   \n",
       "3  Fossedale Avenue          Bristol  BS14 9LS  ...        NaN          NaN   \n",
       "4               NaN              NaN     BS13   ...        NaN          NaN   \n",
       "5       Selden Road          Bristol  BS14 8PS  ...          E       1800.0   \n",
       "6        Four Acres          Bristol  BS13 8RB  ...        NaN          NaN   \n",
       "7      Teyfant Road          Bristol  BS13 0RF  ...        NaN          NaN   \n",
       "8      Wedmore Vale          Bristol   BS3 5HX  ...        NaN          NaN   \n",
       "9       Dorset Road          Bristol   BS9 4BJ  ...        NaN          NaN   \n",
       "\n",
       "   Key Features                Property Rent/Sale History Base Price  \\\n",
       "0           NaN              2013, 2016, 2021, 2023, 2025        NaN   \n",
       "1           NaN              2014, 2015, 2016, 2017, 2021   291200.0   \n",
       "2           NaN        2010, 2014, 2016, 2020, 2021, 2024        NaN   \n",
       "3           NaN        2013, 2016, 2018, 2020, 2021, 2022        NaN   \n",
       "4           NaN              2016, 2017, 2021, 2022, 2024        NaN   \n",
       "5           NaN  2011, 2012, 2013, 2016, 2017, 2021, 2024   291200.0   \n",
       "6           NaN        2012, 2013, 2014, 2016, 2021, 2025        NaN   \n",
       "7           NaN        2014, 2015, 2016, 2019, 2021, 2022        NaN   \n",
       "8           NaN                    2014, 2016, 2021, 2024        NaN   \n",
       "9           NaN              2010, 2013, 2016, 2020, 2021        NaN   \n",
       "\n",
       "  New Price  Effective Year  Price Per Sq Meter Property History Count  \\\n",
       "0       NaN          2022.0             0.00000                      5   \n",
       "1       NaN          2022.0             0.00000                      5   \n",
       "2       NaN          2022.0             0.00000                      6   \n",
       "3       NaN          2022.0             0.00000                      6   \n",
       "4       NaN          2022.0             0.00000                      5   \n",
       "5       NaN          2022.0          3462.54459                      7   \n",
       "6       NaN          2022.0             0.00000                      6   \n",
       "7       NaN          2022.0             0.00000                      6   \n",
       "8       NaN          2022.0             0.00000                      4   \n",
       "9       NaN          2022.0             0.00000                      5   \n",
       "\n",
       "  EPC Category  \n",
       "0      Unknown  \n",
       "1          Low  \n",
       "2      Unknown  \n",
       "3      Unknown  \n",
       "4      Unknown  \n",
       "5          Low  \n",
       "6      Unknown  \n",
       "7      Unknown  \n",
       "8      Unknown  \n",
       "9      Unknown  \n",
       "\n",
       "[10 rows x 30 columns]"
      ]
     },
     "execution_count": 2,
     "metadata": {},
     "output_type": "execute_result"
    }
   ],
   "source": [
    "display_cleaned_df = pd.read_csv('cleaned_dataset.csv')\n",
    "display_cleaned_df.head(10)"
   ]
  },
  {
   "cell_type": "code",
   "execution_count": null,
   "id": "71cd7460",
   "metadata": {},
   "outputs": [],
   "source": []
  }
 ],
 "metadata": {
  "kernelspec": {
   "display_name": "Python 3",
   "language": "python",
   "name": "python3"
  },
  "language_info": {
   "codemirror_mode": {
    "name": "ipython",
    "version": 3
   },
   "file_extension": ".py",
   "mimetype": "text/x-python",
   "name": "python",
   "nbconvert_exporter": "python",
   "pygments_lexer": "ipython3",
   "version": "3.12.5"
  }
 },
 "nbformat": 4,
 "nbformat_minor": 5
}
